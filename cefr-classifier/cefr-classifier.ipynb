{
  "cells": [
    {
      "cell_type": "code",
      "execution_count": 1,
      "id": "daba3e5a",
      "metadata": {},
      "outputs": [],
      "source": [
        "# data source\n",
        "# https://github.com/yukiar/CEFR-SP?tab=readme-ov-file \n",
        "# https://www.kaggle.com/datasets/amontgomerie/cefr-levelled-english-texts"
      ]
    },
    {
      "cell_type": "code",
      "execution_count": 2,
      "id": "a541ac17",
      "metadata": {},
      "outputs": [],
      "source": [
        "# make sure to install requirements! "
      ]
    },
    {
      "cell_type": "code",
      "execution_count": 3,
      "id": "2e484fe0",
      "metadata": {},
      "outputs": [
        {
          "name": "stderr",
          "output_type": "stream",
          "text": [
            "c:\\Users\\yangl\\OneDrive\\Documents\\GitHub\\LSBert\\.conda\\Lib\\site-packages\\tqdm\\auto.py:21: TqdmWarning: IProgress not found. Please update jupyter and ipywidgets. See https://ipywidgets.readthedocs.io/en/stable/user_install.html\n",
            "  from .autonotebook import tqdm as notebook_tqdm\n"
          ]
        }
      ],
      "source": [
        "import torch\n",
        "import torch.nn as nn\n",
        "import torch.nn.functional as F\n",
        "import pandas as pd\n",
        "\n",
        "from transformers import DebertaV2Model, DebertaV2Tokenizer\n",
        "from transformers import PreTrainedModel, AutoConfig, AutoTokenizer\n",
        "from transformers.modeling_outputs import SequenceClassifierOutput"
      ]
    },
    {
      "cell_type": "code",
      "execution_count": 4,
      "id": "af143128",
      "metadata": {},
      "outputs": [],
      "source": [
        "class CustomModelWithCEFR(PreTrainedModel):\n",
        "    def __init__(self, config, model_name_or_path, num_labels=6, two_labels=True):\n",
        "        super().__init__(config)\n",
        "        self.backbone = DebertaV2Model(config)\n",
        "        self.dropout = nn.Dropout(config.hidden_dropout_prob)\n",
        "        self.classifier = nn.Linear(config.hidden_size, num_labels)\n",
        "        \n",
        "        self.num_labels = num_labels\n",
        "        self.two_labels = two_labels\n",
        "\n",
        "    def forward(\n",
        "        self,\n",
        "        input_ids=None,\n",
        "        attention_mask=None,\n",
        "        token_type_ids=None,\n",
        "        label_a=None,\n",
        "        label_b=None,\n",
        "        labels=None,\n",
        "    ):\n",
        "        outputs = self.backbone(input_ids=input_ids, attention_mask=attention_mask, token_type_ids=token_type_ids)\n",
        "        pooled_output = outputs.last_hidden_state[:, 0]  # CLS token\n",
        "        pooled_output = self.dropout(pooled_output)\n",
        "        logits = self.classifier(pooled_output)\n",
        "\n",
        "        loss = None\n",
        "        if self.two_labels:\n",
        "            if label_a is not None and label_b is not None:\n",
        "                loss_fn = nn.CrossEntropyLoss()\n",
        "                loss_a = loss_fn(logits, label_a)\n",
        "                loss_b = loss_fn(logits, label_b)\n",
        "                loss = 0.5 * (loss_a + loss_b)\n",
        "        else:\n",
        "            if labels is not None:\n",
        "                loss_fn = nn.CrossEntropyLoss()\n",
        "                loss = loss_fn(logits, labels)\n",
        "\n",
        "        return SequenceClassifierOutput(\n",
        "            loss=loss,\n",
        "            logits=logits,\n",
        "            hidden_states=outputs.hidden_states if hasattr(outputs, 'hidden_states') else None,\n",
        "            attentions=outputs.attentions if hasattr(outputs, 'attentions') else None\n",
        "        )\n",
        "\n",
        "    @classmethod\n",
        "    def from_pretrained_custom(cls, model_path, **kwargs):\n",
        "        config = AutoConfig.from_pretrained(model_path)\n",
        "        return cls.from_pretrained(model_path, config=config, model_name_or_path=model_path, **kwargs)"
      ]
    },
    {
      "cell_type": "code",
      "execution_count": 5,
      "id": "d9d75dce",
      "metadata": {},
      "outputs": [],
      "source": [
        "model_name = 'microsoft/deberta-v3-small'\n",
        "tokenizer = DebertaV2Tokenizer.from_pretrained(model_name)\n",
        "\n",
        "device = torch.device('cuda' if torch.cuda.is_available() else 'cpu')\n",
        "\n",
        "cefr_levels = ['A1', 'A2', 'B1', 'B2', 'C1', 'C2']"
      ]
    },
    {
      "cell_type": "code",
      "execution_count": 7,
      "id": "91a1ac99",
      "metadata": {},
      "outputs": [],
      "source": [
        "# Just example simplified texts\n",
        "# should be replaced with the actual data when running \n",
        "\n",
        "simplified_sent_file = 'data/simplified-sentences.csv'\n",
        "df = pd.read_csv(simplified_sent_file, encoding='ISO-8859-1', usecols=['id', 'sentence'])"
      ]
    },
    {
      "cell_type": "code",
      "execution_count": 8,
      "id": "788d4b53",
      "metadata": {},
      "outputs": [],
      "source": [
        "# Organize the sentences into groups based on 'base' and 'variants'\n",
        "\n",
        "grouped_sentences = []\n",
        "current_group = None\n",
        "\n",
        "for _, row in df.iterrows():\n",
        "    sid, sentence = row['id'], row['sentence']\n",
        "    if sid == 'base':\n",
        "        if current_group:\n",
        "            grouped_sentences.append(current_group)\n",
        "        \n",
        "        current_group = {  \n",
        "            'base': sentence,\n",
        "            'variants': []\n",
        "        }\n",
        "    else:\n",
        "        if current_group: \n",
        "            current_group['variants'].append({\n",
        "                'id': int(sid),\n",
        "                'sentence': sentence\n",
        "            })\n",
        "\n",
        "# After the loop, add the last group to grouped_sentences if it exists\n",
        "if current_group:\n",
        "    grouped_sentences.append(current_group)"
      ]
    },
    {
      "cell_type": "code",
      "execution_count": null,
      "id": "f474ef70",
      "metadata": {},
      "outputs": [
        {
          "data": {
            "text/plain": [
              "CustomModelWithCEFR(\n",
              "  (backbone): DebertaV2Model(\n",
              "    (embeddings): DebertaV2Embeddings(\n",
              "      (word_embeddings): Embedding(128100, 768, padding_idx=0)\n",
              "      (LayerNorm): LayerNorm((768,), eps=1e-07, elementwise_affine=True)\n",
              "      (dropout): Dropout(p=0.1, inplace=False)\n",
              "    )\n",
              "    (encoder): DebertaV2Encoder(\n",
              "      (layer): ModuleList(\n",
              "        (0-5): 6 x DebertaV2Layer(\n",
              "          (attention): DebertaV2Attention(\n",
              "            (self): DisentangledSelfAttention(\n",
              "              (query_proj): Linear(in_features=768, out_features=768, bias=True)\n",
              "              (key_proj): Linear(in_features=768, out_features=768, bias=True)\n",
              "              (value_proj): Linear(in_features=768, out_features=768, bias=True)\n",
              "              (pos_dropout): Dropout(p=0.1, inplace=False)\n",
              "              (dropout): Dropout(p=0.1, inplace=False)\n",
              "            )\n",
              "            (output): DebertaV2SelfOutput(\n",
              "              (dense): Linear(in_features=768, out_features=768, bias=True)\n",
              "              (LayerNorm): LayerNorm((768,), eps=1e-07, elementwise_affine=True)\n",
              "              (dropout): Dropout(p=0.1, inplace=False)\n",
              "            )\n",
              "          )\n",
              "          (intermediate): DebertaV2Intermediate(\n",
              "            (dense): Linear(in_features=768, out_features=3072, bias=True)\n",
              "            (intermediate_act_fn): GELUActivation()\n",
              "          )\n",
              "          (output): DebertaV2Output(\n",
              "            (dense): Linear(in_features=3072, out_features=768, bias=True)\n",
              "            (LayerNorm): LayerNorm((768,), eps=1e-07, elementwise_affine=True)\n",
              "            (dropout): Dropout(p=0.1, inplace=False)\n",
              "          )\n",
              "        )\n",
              "      )\n",
              "      (rel_embeddings): Embedding(512, 768)\n",
              "      (LayerNorm): LayerNorm((768,), eps=1e-07, elementwise_affine=True)\n",
              "    )\n",
              "  )\n",
              "  (dropout): Dropout(p=0.1, inplace=False)\n",
              "  (classifier): Linear(in_features=768, out_features=6, bias=True)\n",
              ")"
            ]
          },
          "execution_count": 10,
          "metadata": {},
          "output_type": "execute_result"
        }
      ],
      "source": [
        "# Make sure to download the model from https://www.kaggle.com/models/vinaxue/cefr-classifier-bert/pyTorch/deberta first and put it in the model directory \n",
        "# Make sure it's deberta version 5\n",
        "\n",
        "model_path = 'model'\n",
        "model = CustomModelWithCEFR.from_pretrained_custom(model_path, two_labels=False)\n",
        "model.to(device)"
      ]
    },
    {
      "cell_type": "code",
      "execution_count": 11,
      "id": "2b3547af",
      "metadata": {},
      "outputs": [
        {
          "name": "stderr",
          "output_type": "stream",
          "text": [
            "Asking to truncate to max_length but no maximum length is provided and the model has no predefined maximum length. Default to no truncation.\n"
          ]
        },
        {
          "name": "stdout",
          "output_type": "stream",
          "text": [
            "Base: B1\n",
            "Variants: ['B1', 'B1', 'B1', 'B1', 'B1', 'B1', 'B1', 'B1', 'B1']\n",
            "------------------------------\n",
            "Base: B1\n",
            "Variants: ['A2', 'B1', 'A1', 'A1', 'A2', 'A1', 'A2', 'A1', 'A2', 'B1', 'B1', 'B1']\n",
            "------------------------------\n",
            "Base: C1\n",
            "Variants: ['B2', 'B2', 'B2', 'B2', 'B2', 'B2']\n",
            "------------------------------\n",
            "Base: C1\n",
            "Variants: ['C1', 'C1', 'C1', 'C1', 'C1', 'C1', 'C1', 'C1', 'C1', 'C1']\n",
            "------------------------------\n"
          ]
        }
      ],
      "source": [
        "model.eval()\n",
        "\n",
        "for group in grouped_sentences:\n",
        "    predictions = []\n",
        "\n",
        "    # Predict for base sentence\n",
        "    base_sentence = group['base']\n",
        "    inputs = tokenizer(base_sentence, return_tensors='pt', truncation=True, padding=True).to(model.device)\n",
        "\n",
        "    with torch.no_grad():\n",
        "        outputs = model(\n",
        "            input_ids=inputs['input_ids'],\n",
        "            attention_mask=inputs['attention_mask'],\n",
        "            token_type_ids=inputs.get('token_type_ids')\n",
        "        )\n",
        "        logits = outputs.logits \n",
        "        probs = F.softmax(logits, dim=1)\n",
        "        pred_idx = torch.argmax(probs, dim=1).item()\n",
        "        base_pred = cefr_levels[pred_idx]\n",
        "        predictions.append(base_pred)\n",
        "\n",
        "    # Predict for variants\n",
        "    for variant in group['variants']:\n",
        "        sentence = variant['sentence']\n",
        "        inputs = tokenizer(sentence, return_tensors='pt', truncation=True, padding=True).to(model.device)\n",
        "\n",
        "        with torch.no_grad():\n",
        "            outputs = model(\n",
        "                input_ids=inputs['input_ids'],\n",
        "                attention_mask=inputs['attention_mask'],\n",
        "                token_type_ids=inputs.get('token_type_ids')\n",
        "            )\n",
        "            logits = outputs.logits\n",
        "            probs = F.softmax(logits, dim=1)\n",
        "            pred_idx = torch.argmax(probs, dim=1).item()\n",
        "            pred_label = cefr_levels[pred_idx]\n",
        "            predictions.append(pred_label)\n",
        "\n",
        "    print(f\"Base: {predictions[0]}\")\n",
        "    print(f\"Variants: {predictions[1:]}\")\n",
        "    print(\"-\" * 30)"
      ]
    }
  ],
  "metadata": {
    "kernelspec": {
      "display_name": ".conda",
      "language": "python",
      "name": "python3"
    },
    "language_info": {
      "codemirror_mode": {
        "name": "ipython",
        "version": 3
      },
      "file_extension": ".py",
      "mimetype": "text/x-python",
      "name": "python",
      "nbconvert_exporter": "python",
      "pygments_lexer": "ipython3",
      "version": "3.11.11"
    }
  },
  "nbformat": 4,
  "nbformat_minor": 5
}
